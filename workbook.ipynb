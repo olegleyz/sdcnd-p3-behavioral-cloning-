{
 "cells": [
  {
   "cell_type": "code",
   "execution_count": 2,
   "metadata": {
    "collapsed": false
   },
   "outputs": [
    {
     "name": "stderr",
     "output_type": "stream",
     "text": [
      "Using TensorFlow backend.\n"
     ]
    }
   ],
   "source": [
    "from keras.models import Sequential\n",
    "from keras.layers.core import Dense, Activation, Flatten, Dropout\n",
    "from keras.layers.convolutional import Convolution2D\n",
    "from keras.layers.pooling import MaxPooling2D\n",
    "from keras.wrappers.scikit_learn import KerasRegressor\n",
    "import numpy as np\n",
    "import matplotlib.pyplot as plt\n",
    "import pandas as pd"
   ]
  },
  {
   "cell_type": "code",
   "execution_count": 3,
   "metadata": {
    "collapsed": false
   },
   "outputs": [],
   "source": [
    "label_file = '../data/p3/data/driving_log.csv'\n",
    "data_dir = '../data/p3/data/'\n",
    "data = pd.read_csv(label_file)[['center','steering']]"
   ]
  },
  {
   "cell_type": "code",
   "execution_count": null,
   "metadata": {
    "collapsed": true
   },
   "outputs": [],
   "source": [
    "# 3 samples\n",
    "y_train = [data[data.steering==0.0].steering.iloc[0],\n",
    "       data[data.steering>0.0].steering.iloc[0],\n",
    "       data[data.steering<0.0].steering.iloc[0]]\n",
    "\n",
    "X_train = np.array([plt.imread(data_dir+data[data.steering==0.0].center.iloc[0]),\n",
    "       plt.imread(data_dir+data[data.steering>0.0].center.iloc[0]),\n",
    "       plt.imread(data_dir+data[data.steering<0.0].center.iloc[0])])"
   ]
  },
  {
   "cell_type": "code",
   "execution_count": 4,
   "metadata": {
    "collapsed": false
   },
   "outputs": [
    {
     "data": {
      "text/plain": [
       "(8036,)"
      ]
     },
     "execution_count": 4,
     "metadata": {},
     "output_type": "execute_result"
    }
   ],
   "source": [
    "y_train = np.asarray(data.steering)\n",
    "y_train.shape"
   ]
  },
  {
   "cell_type": "code",
   "execution_count": 6,
   "metadata": {
    "collapsed": false
   },
   "outputs": [],
   "source": [
    "arr_size = len(y_train)\n",
    "X_train=np.empty((arr_size,160,320,3))\n",
    "for i, url in enumerate(data.center):\n",
    "    X_train[i] = plt.imread(data_dir + url)\n",
    "#plt.imread(data_dir+data.center+'.jpg')"
   ]
  },
  {
   "cell_type": "code",
   "execution_count": 7,
   "metadata": {
    "collapsed": false
   },
   "outputs": [
    {
     "data": {
      "text/plain": [
       "(8036, 160, 320, 3)"
      ]
     },
     "execution_count": 7,
     "metadata": {},
     "output_type": "execute_result"
    }
   ],
   "source": [
    "X_train.shape"
   ]
  },
  {
   "cell_type": "code",
   "execution_count": 8,
   "metadata": {
    "collapsed": false
   },
   "outputs": [
    {
     "name": "stdout",
     "output_type": "stream",
     "text": [
      "Epoch 1/5\n",
      "8036/8036 [==============================] - 365s - loss: 104035.7088   \n",
      "Epoch 2/5\n",
      "8036/8036 [==============================] - 365s - loss: 0.0166   \n",
      "Epoch 3/5\n",
      "8036/8036 [==============================] - 365s - loss: 0.0166   \n",
      "Epoch 4/5\n",
      "8036/8036 [==============================] - 376s - loss: 0.0166   \n",
      "Epoch 5/5\n",
      "8036/8036 [==============================] - 372s - loss: 0.0166   \n"
     ]
    },
    {
     "data": {
      "text/plain": [
       "<keras.callbacks.History at 0x7f1619ce0cc0>"
      ]
     },
     "execution_count": 8,
     "metadata": {},
     "output_type": "execute_result"
    }
   ],
   "source": [
    "model = Sequential()\n",
    "#input 320*160*3 output 160*80*64\n",
    "model.add(Convolution2D(64, 7, 7, subsample = (2,2), input_shape=(160,320,3)))\n",
    "#output 80*40*64\n",
    "model.add(MaxPooling2D(pool_size=(3,3), strides=(2,2)))\n",
    "#output 80*40*192\n",
    "model.add(Convolution2D(192, 3, 3, subsample = (1,1)))\n",
    "#output 40*20*192\n",
    "model.add(MaxPooling2D(pool_size=(3,3), strides=(2,2)))\n",
    "\n",
    "model.add(Dropout(0.4))\n",
    "model.add(Activation('relu'))\n",
    "# output 153600\n",
    "model.add(Flatten())\n",
    "model.add(Dense(128))\n",
    "model.add(Activation('relu'))\n",
    "model.add(Dense(1))\n",
    "\n",
    "model.compile(loss='mean_squared_error', optimizer='adam')\n",
    "\n",
    "model.fit(np.asarray(X_train), np.asarray(y_train), nb_epoch=5, batch_size=32)\n",
    "#score = model.evaluate(X_test, y_test, batch_size=32)\n",
    "#score\n",
    "\n"
   ]
  },
  {
   "cell_type": "code",
   "execution_count": 9,
   "metadata": {
    "collapsed": false
   },
   "outputs": [
    {
     "name": "stdout",
     "output_type": "stream",
     "text": [
      "Saved model to disk\n"
     ]
    }
   ],
   "source": [
    "# save as JSON\n",
    "json_string = model.to_json()\n",
    "# serialize weights to HDF5\n",
    "model.save_weights(\"model.h5\")\n",
    "\n",
    "with open(\"model.json\", \"w\") as json_file:\n",
    "    json_file.write(json_string)\n",
    "\n",
    "\n",
    "print(\"Saved model to disk\")"
   ]
  },
  {
   "cell_type": "code",
   "execution_count": null,
   "metadata": {
    "collapsed": true
   },
   "outputs": [],
   "source": []
  }
 ],
 "metadata": {
  "anaconda-cloud": {},
  "kernelspec": {
   "display_name": "Python [conda env:carnd]",
   "language": "python",
   "name": "conda-env-carnd-py"
  },
  "language_info": {
   "codemirror_mode": {
    "name": "ipython",
    "version": 3
   },
   "file_extension": ".py",
   "mimetype": "text/x-python",
   "name": "python",
   "nbconvert_exporter": "python",
   "pygments_lexer": "ipython3",
   "version": "3.5.2"
  }
 },
 "nbformat": 4,
 "nbformat_minor": 1
}
