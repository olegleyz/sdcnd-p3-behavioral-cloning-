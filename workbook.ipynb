{
 "cells": [
  {
   "cell_type": "code",
   "execution_count": 10,
   "metadata": {
    "collapsed": false
   },
   "outputs": [],
   "source": [
    "from keras.models import Sequential\n",
    "from keras.layers.core import Dense, Activation, Flatten, Dropout\n",
    "from keras.layers.convolutional import Convolution2D\n",
    "from keras.layers.pooling import MaxPooling2D\n",
    "from keras.wrappers.scikit_learn import KerasRegressor\n",
    "import numpy as np"
   ]
  },
  {
   "cell_type": "code",
   "execution_count": 50,
   "metadata": {
    "collapsed": false
   },
   "outputs": [],
   "source": [
    "import pandas as pd\n",
    "label_file = '../data/p3/data/driving_log.csv'\n",
    "data_dir = '../data/p3/data/'\n",
    "data = pd.read_csv(label_file)[['center','steering']]\n",
    "y_train = [data[data.steering==0.0].steering.iloc[0],\n",
    "       data[data.steering>0.0].steering.iloc[0],\n",
    "       data[data.steering<0.0].steering.iloc[0]]\n",
    "\n",
    "X_train = np.array([plt.imread(data_dir+data[data.steering==0.0].center.iloc[0]),\n",
    "       plt.imread(data_dir+data[data.steering>0.0].center.iloc[0]),\n",
    "       plt.imread(data_dir+data[data.steering<0.0].center.iloc[0])])"
   ]
  },
  {
   "cell_type": "code",
   "execution_count": 60,
   "metadata": {
    "collapsed": false
   },
   "outputs": [
    {
     "name": "stdout",
     "output_type": "stream",
     "text": [
      "Epoch 1/20\n",
      "3/3 [==============================] - 0s - loss: 340.8953\n",
      "Epoch 2/20\n",
      "3/3 [==============================] - 0s - loss: 8278513.5000\n",
      "Epoch 3/20\n",
      "3/3 [==============================] - 0s - loss: 518331.4062\n",
      "Epoch 4/20\n",
      "3/3 [==============================] - 0s - loss: 198949.1094\n",
      "Epoch 5/20\n",
      "3/3 [==============================] - 0s - loss: 33369.2188\n",
      "Epoch 6/20\n",
      "3/3 [==============================] - 0s - loss: 411.5463\n",
      "Epoch 7/20\n",
      "3/3 [==============================] - 0s - loss: 36683.1523\n",
      "Epoch 8/20\n",
      "3/3 [==============================] - 0s - loss: 5410.5171\n",
      "Epoch 9/20\n",
      "3/3 [==============================] - 0s - loss: 45642.7930\n",
      "Epoch 10/20\n",
      "3/3 [==============================] - 0s - loss: 4713.8394\n",
      "Epoch 11/20\n",
      "3/3 [==============================] - 0s - loss: 14765.9092\n",
      "Epoch 12/20\n",
      "3/3 [==============================] - 0s - loss: 17464.3750\n",
      "Epoch 13/20\n",
      "3/3 [==============================] - 0s - loss: 1327.3104\n",
      "Epoch 14/20\n",
      "3/3 [==============================] - 0s - loss: 4050.3503\n",
      "Epoch 15/20\n",
      "3/3 [==============================] - 0s - loss: 7655.5718\n",
      "Epoch 16/20\n",
      "3/3 [==============================] - 0s - loss: 485.8812\n",
      "Epoch 17/20\n",
      "3/3 [==============================] - 0s - loss: 4642.7427\n",
      "Epoch 18/20\n",
      "3/3 [==============================] - 0s - loss: 4062.6511\n",
      "Epoch 19/20\n",
      "3/3 [==============================] - 0s - loss: 638.8682\n",
      "Epoch 20/20\n",
      "3/3 [==============================] - 0s - loss: 1379.4796\n"
     ]
    },
    {
     "data": {
      "text/plain": [
       "<keras.callbacks.History at 0x7f1794f3e7b8>"
      ]
     },
     "execution_count": 60,
     "metadata": {},
     "output_type": "execute_result"
    }
   ],
   "source": [
    "model = Sequential()\n",
    "#input 320*160*3 output 160*80*64\n",
    "model.add(Convolution2D(64, 7, 7, subsample = (2,2), input_shape=(160,320,3)))\n",
    "#output 80*40*64\n",
    "model.add(MaxPooling2D(pool_size=(3,3), strides=(2,2)))\n",
    "#output 80*40*192\n",
    "model.add(Convolution2D(192, 3, 3, subsample = (1,1)))\n",
    "#output 40*20*192\n",
    "model.add(MaxPooling2D(pool_size=(3,3), strides=(2,2)))\n",
    "\n",
    "model.add(Dropout(0.4))\n",
    "model.add(Activation('relu'))\n",
    "# output 153600\n",
    "model.add(Flatten())\n",
    "model.add(Dense(128))\n",
    "model.add(Activation('relu'))\n",
    "model.add(Dense(1))\n",
    "\n",
    "model.compile(loss='mean_squared_error', optimizer='adam')\n",
    "\n",
    "model.fit(np.asarray(X_train), np.asarray(y_train), nb_epoch=20, batch_size=32)\n",
    "#score = model.evaluate(X_test, y_test, batch_size=32)\n",
    "#score\n",
    "\n"
   ]
  },
  {
   "cell_type": "code",
   "execution_count": null,
   "metadata": {
    "collapsed": true
   },
   "outputs": [],
   "source": [
    "# save as JSON\n",
    "json_string = model.to_json()\n",
    "# serialize weights to HDF5\n",
    "model.save_weights(\"model.h5\")\n",
    "\n",
    "with open(\"model.json\", \"w\") as json_file:\n",
    "    json_file.write(json_string)\n",
    "\n",
    "\n",
    "print(\"Saved model to disk\")"
   ]
  }
 ],
 "metadata": {
  "anaconda-cloud": {},
  "kernelspec": {
   "display_name": "Python [conda env:carnd]",
   "language": "python",
   "name": "conda-env-carnd-py"
  },
  "language_info": {
   "codemirror_mode": {
    "name": "ipython",
    "version": 3
   },
   "file_extension": ".py",
   "mimetype": "text/x-python",
   "name": "python",
   "nbconvert_exporter": "python",
   "pygments_lexer": "ipython3",
   "version": "3.5.2"
  }
 },
 "nbformat": 4,
 "nbformat_minor": 1
}
